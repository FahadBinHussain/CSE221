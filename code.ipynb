{
 "cells": [
  {
   "attachments": {},
   "cell_type": "markdown",
   "metadata": {},
   "source": [
    "Day 1"
   ]
  },
  {
   "attachments": {},
   "cell_type": "markdown",
   "metadata": {},
   "source": [
    "task1a"
   ]
  },
  {
   "cell_type": "code",
   "execution_count": null,
   "metadata": {},
   "outputs": [],
   "source": [
    "input_file = open(\"task1a_files/input1a.txt\", \"r\")\n",
    "output_file = open(\"task1a_files/output1a.txt\", \"w\")\n",
    "num_cases = int(input_file.readline())\n",
    "\n",
    "for _ in range(num_cases):\n",
    "    num = int(input_file.readline())\n",
    "    if num % 2 == 0:\n",
    "        output_file.write(f\"{num} is an Even number.\\n\")\n",
    "    else:\n",
    "        output_file.write(f\"{num} is an Odd number.\\n\")\n",
    "\n",
    "input_file.close()\n",
    "output_file.close()"
   ]
  },
  {
   "attachments": {},
   "cell_type": "markdown",
   "metadata": {},
   "source": [
    "task1b"
   ]
  },
  {
   "cell_type": "code",
   "execution_count": null,
   "metadata": {},
   "outputs": [],
   "source": [
    "input_file = open(\"task1b_files/input1b.txt\", \"r\")\n",
    "output_file = open(\"task1b_files/output1b.txt\", \"w\")\n",
    "\n",
    "num_cases = int(input_file.readline())\n",
    "\n",
    "for _ in range(num_cases):\n",
    "    expression = input_file.readline().strip().split()\n",
    "    \n",
    "    num1 = int(expression[1])\n",
    "    operator = expression[2]\n",
    "    num2 = int(expression[3])\n",
    "    \n",
    "    if operator == \"+\":\n",
    "        result = num1 + num2\n",
    "    elif operator == \"-\":\n",
    "        result = num1 - num2\n",
    "    elif operator == \"*\":\n",
    "        result = num1 * num2\n",
    "    elif operator == \"/\":\n",
    "        result = num1 / num2\n",
    "    \n",
    "    output_file.write(f\"The result of {' '.join(expression)} is {result}\\n\")\n",
    "\n",
    "input_file.close()\n",
    "output_file.close()"
   ]
  },
  {
   "attachments": {},
   "cell_type": "markdown",
   "metadata": {},
   "source": [
    "task2"
   ]
  },
  {
   "cell_type": "code",
   "execution_count": null,
   "metadata": {},
   "outputs": [],
   "source": [
    "# def bubbleSort(arr):\n",
    "#     for i in range(len(arr)-1):\n",
    "#         for j in range(len(arr)-i-1):\n",
    "#             if arr[j] > arr[j+1]:\n",
    "#                 arr[j], arr[j+1] = arr[j+1], arr[j]\n",
    "\n",
    "# input_file = open(\"task2_files/input2.txt\", \"r\")\n",
    "# output_file = open(\"task2_files/output2.txt\", \"w\")\n",
    "\n",
    "# num_cases = int(input_file.readline())\n",
    "# data_to_sort = input_file.readline().split()\n",
    "# print(data_to_sort)\n",
    "\n",
    "# inted_data_to_sort = []\n",
    "\n",
    "# for _ in data_to_sort:\n",
    "#     inted_num = int(_)\n",
    "#     inted_data_to_sort.append(inted_num)\n",
    "# print(inted_data_to_sort)\n",
    "\n",
    "# bubbleSort(inted_data_to_sort)\n",
    "\n",
    "# for _ in inted_data_to_sort:\n",
    "#     output_data = f\"{_}\" + \" \"\n",
    "#     output_file.write(output_data)\n",
    "\n",
    "# print(inted_data_to_sort)\n",
    "\n",
    "# input_file.close()\n",
    "# output_file.close()\n",
    "\n",
    "## below code works too, but i dont understand how it works\n",
    "\n",
    "def countingSort(arr):\n",
    "    max_val = max(arr)\n",
    "    min_val = min(arr)\n",
    "    range_of_elements = max_val - min_val + 1\n",
    "\n",
    "\n",
    "    count_arr = [0] * range_of_elements\n",
    "    output_arr = [0] * len(arr)\n",
    "\n",
    "\n",
    "    for num in arr:\n",
    "        count_arr[num - min_val] += 1\n",
    "\n",
    "\n",
    "    for i in range(1, len(count_arr)):\n",
    "        count_arr[i] += count_arr[i - 1]\n",
    "\n",
    "\n",
    "    for num in reversed(arr):\n",
    "        output_arr[count_arr[num - min_val] - 1] = num\n",
    "        count_arr[num - min_val] -= 1\n",
    "\n",
    "\n",
    "    for i in range(len(arr)):\n",
    "        arr[i] = output_arr[i]\n",
    "\n",
    "\n",
    "input_file = open(\"task2_files/input2.txt\", \"r\")\n",
    "output_file = open(\"task2_files/output2.txt\", \"w\")\n",
    "\n",
    "num_cases = int(input_file.readline())\n",
    "data_to_sort = input_file.readline().split()\n",
    "inted_data_to_sort = [int(num) for num in data_to_sort]\n",
    "\n",
    "countingSort(inted_data_to_sort)\n",
    "\n",
    "for num in inted_data_to_sort:\n",
    "    output_file.write(f\"{num} \")\n",
    "\n",
    "input_file.close()\n",
    "output_file.close()\n"
   ]
  }
 ],
 "metadata": {
  "kernelspec": {
   "display_name": "base",
   "language": "python",
   "name": "python3"
  },
  "language_info": {
   "codemirror_mode": {
    "name": "ipython",
    "version": 3
   },
   "file_extension": ".py",
   "mimetype": "text/x-python",
   "name": "python",
   "nbconvert_exporter": "python",
   "pygments_lexer": "ipython3",
   "version": "3.9.7"
  }
 },
 "nbformat": 4,
 "nbformat_minor": 2
}
