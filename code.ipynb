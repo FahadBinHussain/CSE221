{
 "cells": [
  {
   "attachments": {},
   "cell_type": "markdown",
   "metadata": {},
   "source": [
    "Day 1"
   ]
  },
  {
   "attachments": {},
   "cell_type": "markdown",
   "metadata": {},
   "source": [
    "Task 1a"
   ]
  },
  {
   "cell_type": "code",
   "execution_count": 1,
   "metadata": {},
   "outputs": [],
   "source": [
    "inputfile = open(\"input1a.txt\", \"r\")\n",
    "output = open(\"output1a.txt\", \"w\")\n",
    "num_cases = int(inputfile.readline())\n",
    "\n",
    "for _ in range(num_cases):\n",
    "    num = int(inputfile.readline())\n",
    "    if num % 2 == 0:\n",
    "        output.write(f\"{num} is an Even number.\\n\")\n",
    "    else:\n",
    "        output.write(f\"{num} is an Odd number.\\n\")\n",
    "\n",
    "inputfile.close()\n",
    "output.close()"
   ]
  },
  {
   "attachments": {},
   "cell_type": "markdown",
   "metadata": {},
   "source": [
    "Task 1b"
   ]
  },
  {
   "cell_type": "code",
   "execution_count": 29,
   "metadata": {},
   "outputs": [],
   "source": [
    "inputfile = open(\"input1b.txt\", \"r\")\n",
    "output = open(\"output1b.txt\", \"w\")\n",
    "\n",
    "num_cases = int(inputfile.readline())\n",
    "\n",
    "for _ in range(num_cases):\n",
    "    expression = inputfile.readline().strip().split()\n",
    "    operator = expression[1]\n",
    "    operands = expression[2:]\n",
    "    \n",
    "    if len(operands) != 2:\n",
    "        output.write(f\"Invalid expression: {' '.join(expression)}\\n\")\n",
    "        continue\n",
    "    \n",
    "    try:\n",
    "        num1 = int(operands[0])\n",
    "        num2 = int(operands[1])\n",
    "    except ValueError:\n",
    "        output.write(f\"Invalid expression: {' '.join(expression)}\\n\")\n",
    "        continue\n",
    "    \n",
    "    if operator == \"+\":\n",
    "        result = num1 + num2\n",
    "    elif operator == \"-\":\n",
    "        result = num1 - num2\n",
    "    elif operator == \"*\":\n",
    "        result = num1 * num2\n",
    "    elif operator == \"/\":\n",
    "        if num2 == 0:\n",
    "            output.write(f\"Cannot divide by zero: {' '.join(expression)}\\n\")\n",
    "            continue\n",
    "        result = num1 / num2\n",
    "    \n",
    "    output.write(f\"The result of {' '.join(expression)} is {result}\\n\")\n",
    "\n",
    "inputfile.close()\n",
    "output.close()"
   ]
  },
  {
   "attachments": {},
   "cell_type": "markdown",
   "metadata": {},
   "source": [
    "Task 2"
   ]
  },
  {
   "cell_type": "code",
   "execution_count": null,
   "metadata": {},
   "outputs": [],
   "source": [
    "# Define the function to determine if a number is odd or even\n",
    "def determine_odd_even(n):\n",
    "    if n % 2 == 0:\n",
    "        return f\"{n} is an Even number.\"\n",
    "    else:\n",
    "        return f\"{n} is an Odd number.\"\n",
    "\n",
    "# Read input from \"input1a.txt\"\n",
    "with open(\"input1a.txt\", \"r\") as input_file:\n",
    "    lines = input_file.readlines()\n",
    "\n",
    "# The first line is the number of test cases\n",
    "T = int(lines[0].strip())\n",
    "\n",
    "# Process each test case\n",
    "results = []\n",
    "for i in range(1, T + 1):\n",
    "    N = int(lines[i].strip())\n",
    "    result = determine_odd_even(N)\n",
    "    results.append(result)\n",
    "\n",
    "# Write the results to \"output1a.txt\"\n",
    "with open(\"output1a.txt\", \"w\") as output_file:\n",
    "    for result in results:\n",
    "        output_file.write(result + \"\\n\")\n"
   ]
  },
  {
   "cell_type": "markdown",
   "metadata": {},
   "source": [
    "Day 2"
   ]
  },
  {
   "cell_type": "code",
   "execution_count": 1,
   "metadata": {},
   "outputs": [
    {
     "ename": "ValueError",
     "evalue": "not enough values to unpack (expected 2, got 0)",
     "output_type": "error",
     "traceback": [
      "\u001b[1;31m---------------------------------------------------------------------------\u001b[0m",
      "\u001b[1;31mValueError\u001b[0m                                Traceback (most recent call last)",
      "Cell \u001b[1;32mIn[1], line 1\u001b[0m\n\u001b[1;32m----> 1\u001b[0m n, s \u001b[38;5;241m=\u001b[39m \u001b[38;5;28mmap\u001b[39m(\u001b[38;5;28mint\u001b[39m, \u001b[38;5;28minput\u001b[39m()\u001b[38;5;241m.\u001b[39msplit())\n\u001b[0;32m      2\u001b[0m nums \u001b[38;5;241m=\u001b[39m \u001b[38;5;28mlist\u001b[39m(\u001b[38;5;28mmap\u001b[39m(\u001b[38;5;28mint\u001b[39m, \u001b[38;5;28minput\u001b[39m()\u001b[38;5;241m.\u001b[39msplit()))\n\u001b[0;32m      4\u001b[0m diffs \u001b[38;5;241m=\u001b[39m {}\n",
      "\u001b[1;31mValueError\u001b[0m: not enough values to unpack (expected 2, got 0)"
     ]
    }
   ],
   "source": []
  }
 ],
 "metadata": {
  "kernelspec": {
   "display_name": "Python 3",
   "language": "python",
   "name": "python3"
  },
  "language_info": {
   "codemirror_mode": {
    "name": "ipython",
    "version": 3
   },
   "file_extension": ".py",
   "mimetype": "text/x-python",
   "name": "python",
   "nbconvert_exporter": "python",
   "pygments_lexer": "ipython3",
   "version": "3.11.4"
  }
 },
 "nbformat": 4,
 "nbformat_minor": 2
}
